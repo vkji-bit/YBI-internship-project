import pandas as pd
admission = pd.read_csv('https://github.com/ybifoundation/Dataset/raw/main/Admission%20Chance.csv')
admssion.head() #check the upper five value context
admission.info() # check the information 
admission.describe() #like:- mean, count, max, etc

admission.cloumns
#define target
y = admission['Chance of Admit ']
X = admission.drop(['Serial No','Chance of Admit '],axis=1)

# Step 4 : train test split
from sklearn.model_selection import train_test_split
X_train, X_test, y_train, y_test = train_test_split(X,y, train_size=0.7, random_state=2529)

# check shape of train and test sample
X_train.shape, X_test.shape, y_train.shape, y_test.shape

# Step 5 : select model
from sklearn.linear_model import LinearRegression
model = LinearRegression()

# Step 6 : train or fit model
model.fit(X_train,y_train)

model.intercept_

model.coef_

# Step 7 : predict model
y_pred = model.predict(X_test)

# Step 8 : model accuracy
from sklearn.metrics import mean_absolute_error, mean_absolute_percentage_error, mean_squared_error
mean_absolute_error(y_test,y_pred)

mean_squared_error(y_test,y_pred)
